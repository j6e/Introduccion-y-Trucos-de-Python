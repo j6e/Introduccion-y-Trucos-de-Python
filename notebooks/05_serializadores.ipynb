{
 "metadata": {
  "language_info": {
   "codemirror_mode": {
    "name": "ipython",
    "version": 3
   },
   "file_extension": ".py",
   "mimetype": "text/x-python",
   "name": "python",
   "nbconvert_exporter": "python",
   "pygments_lexer": "ipython3",
   "version": "3.7.8-final"
  },
  "orig_nbformat": 2,
  "kernelspec": {
   "name": "python3",
   "display_name": "Python 3",
   "language": "python"
  }
 },
 "nbformat": 4,
 "nbformat_minor": 2,
 "cells": [
  {
   "source": [
    "# Serializadores "
   ],
   "cell_type": "markdown",
   "metadata": {}
  },
  {
   "source": [
    "# RUTAS\n"
   ],
   "cell_type": "markdown",
   "metadata": {}
  },
  {
   "cell_type": "code",
   "execution_count": 17,
   "metadata": {},
   "outputs": [
    {
     "output_type": "execute_result",
     "data": {
      "text/plain": [
       "('/home/joangarcia/Documentos/random_notebooks/python_tips_and_tricks/05_serializadores.ipynb',\n",
       " PosixPath('/home/joangarcia/Documentos/random_notebooks/python_tips_and_tricks'))"
      ]
     },
     "metadata": {},
     "execution_count": 17
    }
   ],
   "source": [
    "import pathlib\n",
    "__file__ = os.getcwd() + '/05_serializadores.ipynb'\n",
    "FILE_DIR = pathlib.Path(__file__).parent.absolute()\n",
    "__file__, FILE_DIR"
   ]
  },
  {
   "source": [
    "# ARCHIVOS\n"
   ],
   "cell_type": "markdown",
   "metadata": {}
  },
  {
   "cell_type": "code",
   "execution_count": null,
   "metadata": {},
   "outputs": [],
   "source": []
  },
  {
   "cell_type": "code",
   "execution_count": 10,
   "metadata": {},
   "outputs": [],
   "source": [
    "with open('file.txt', 'w') as f:\n",
    "    f.writelines([f'{i}' for i in range(50)])"
   ]
  },
  {
   "cell_type": "code",
   "execution_count": 32,
   "metadata": {},
   "outputs": [],
   "source": [
    "with open('file.txt', 'r') as f:\n",
    "    f.readlines()"
   ]
  },
  {
   "source": [
    "## JSON"
   ],
   "cell_type": "markdown",
   "metadata": {}
  },
  {
   "cell_type": "code",
   "execution_count": 20,
   "metadata": {},
   "outputs": [],
   "source": [
    "import json\n",
    "from dataclasses import dataclass\n",
    "from typing import List\n",
    "\n",
    "@dataclass \n",
    "class Datos:\n",
    "    codigo: int\n",
    "    nombre: str\n",
    "    letras: List\n",
    "\n",
    "mis_datos = [Datos(1,2,['a', 'b']), Datos(3,4, ['c', 'd'])]\n",
    "    "
   ]
  },
  {
   "cell_type": "code",
   "execution_count": 31,
   "metadata": {},
   "outputs": [],
   "source": [
    "with open('datos.txt', 'w') as f:\n",
    "    json.dump(mis_datos, f, default=vars)"
   ]
  },
  {
   "cell_type": "code",
   "execution_count": 41,
   "metadata": {},
   "outputs": [
    {
     "output_type": "stream",
     "name": "stdout",
     "text": [
      "[{\"codigo\": 1, \"nombre\": 2, \"letras\": [\"a\", \"b\"]}, {\"codigo\": 3, \"nombre\": 4, \"letras\": [\"c\", \"d\"]}]"
     ]
    }
   ],
   "source": [
    "!cat datos.txt"
   ]
  },
  {
   "cell_type": "code",
   "execution_count": 37,
   "metadata": {},
   "outputs": [],
   "source": [
    "with open('datos.txt', 'r') as f:\n",
    "    items = json.load(f)\n",
    "    new_datos = []\n",
    "    for item in items:\n",
    "        new_datos.append(Datos(**item))"
   ]
  },
  {
   "cell_type": "code",
   "execution_count": 40,
   "metadata": {},
   "outputs": [
    {
     "output_type": "execute_result",
     "data": {
      "text/plain": [
       "True"
      ]
     },
     "metadata": {},
     "execution_count": 40
    }
   ],
   "source": [
    "new_datos == mis_datos"
   ]
  },
  {
   "cell_type": "code",
   "execution_count": null,
   "metadata": {},
   "outputs": [],
   "source": []
  }
 ]
}