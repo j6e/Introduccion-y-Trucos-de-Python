{
 "metadata": {
  "language_info": {
   "codemirror_mode": {
    "name": "ipython",
    "version": 3
   },
   "file_extension": ".py",
   "mimetype": "text/x-python",
   "name": "python",
   "nbconvert_exporter": "python",
   "pygments_lexer": "ipython3",
   "version": "3.7.8-final"
  },
  "orig_nbformat": 2,
  "kernelspec": {
   "name": "python3",
   "display_name": "Python 3",
   "language": "python"
  }
 },
 "nbformat": 4,
 "nbformat_minor": 2,
 "cells": [
  {
   "source": [
    "# Colecciones\n"
   ],
   "cell_type": "markdown",
   "metadata": {}
  },
  {
   "source": [
    "## Listas\n",
    "`[]`"
   ],
   "cell_type": "markdown",
   "metadata": {}
  },
  {
   "cell_type": "code",
   "execution_count": 3,
   "metadata": {},
   "outputs": [],
   "source": [
    "l_numeritos = [47, 8123, 21]\n",
    "l_letras = ['a', 'b', 'c', 'd', 'e']\n",
    "l_cuenta = list(range(10))"
   ]
  },
  {
   "source": [
    "### Métodos útiles para manipular una lista\n",
    "- `append(elemento)`: Añade un elemento a una lista\n",
    "- `+=`: Une dos listas\n",
    "- `pop(indice)`: Remueve el elemento en el índice y lo devuelve. "
   ],
   "cell_type": "markdown",
   "metadata": {}
  },
  {
   "cell_type": "code",
   "execution_count": 4,
   "metadata": {},
   "outputs": [
    {
     "output_type": "execute_result",
     "data": {
      "text/plain": [
       "[47, 8123, 21, 171, 9812, 5666]"
      ]
     },
     "metadata": {},
     "execution_count": 4
    }
   ],
   "source": [
    "l_numeritos += [171, 9812]\n",
    "l_numeritos.append(5666)\n",
    "l_numeritos"
   ]
  },
  {
   "cell_type": "code",
   "execution_count": 5,
   "metadata": {},
   "outputs": [
    {
     "output_type": "execute_result",
     "data": {
      "text/plain": [
       "21"
      ]
     },
     "metadata": {},
     "execution_count": 5
    }
   ],
   "source": [
    "l_numeritos.pop(2)"
   ]
  },
  {
   "source": [
    "### Métodos para recorrer listas\n",
    "- `enumerate`: Genera un indice que se devuelve con la lista\n",
    "- `zip`: Une dos listas como una cremallera"
   ],
   "cell_type": "markdown",
   "metadata": {}
  },
  {
   "source": [
    "for i, x in enumerate(l_numeritos):\n",
    "    print(i, x) "
   ],
   "cell_type": "code",
   "metadata": {},
   "execution_count": 6,
   "outputs": [
    {
     "output_type": "stream",
     "name": "stdout",
     "text": [
      "0 47\n1 8123\n2 171\n3 9812\n4 5666\n"
     ]
    }
   ]
  },
  {
   "cell_type": "code",
   "execution_count": 7,
   "metadata": {},
   "outputs": [
    {
     "output_type": "stream",
     "name": "stdout",
     "text": [
      "47 a\n8123 b\n171 c\n9812 d\n5666 e\n"
     ]
    }
   ],
   "source": [
    "for a, b in zip(l_numeritos, l_letras):\n",
    "    print(a,b)"
   ]
  },
  {
   "source": [
    "## Listas intensionales\n"
   ],
   "cell_type": "markdown",
   "metadata": {}
  },
  {
   "cell_type": "code",
   "execution_count": 8,
   "metadata": {},
   "outputs": [
    {
     "output_type": "execute_result",
     "data": {
      "text/plain": [
       "[0, 1, 8, 27, 64, 125, 216, 343, 512, 729]"
      ]
     },
     "metadata": {},
     "execution_count": 8
    }
   ],
   "source": [
    "l_al_cubo = [i ** 3 for i in l_cuenta]\n",
    "l_al_cubo"
   ]
  },
  {
   "cell_type": "code",
   "execution_count": 9,
   "metadata": {},
   "outputs": [
    {
     "output_type": "execute_result",
     "data": {
      "text/plain": [
       "[0, 27, 216, 729]"
      ]
     },
     "metadata": {},
     "execution_count": 9
    }
   ],
   "source": [
    "l_impares_al_cubo = [i ** 3 for i in l_cuenta  if i % 3 == 0]\n",
    "l_impares_al_cubo"
   ]
  },
  {
   "cell_type": "code",
   "execution_count": 10,
   "metadata": {},
   "outputs": [
    {
     "output_type": "execute_result",
     "data": {
      "text/plain": [
       "[0, 3, 4, 9, 16, 15, 36, 21, 64, 27]"
      ]
     },
     "metadata": {},
     "execution_count": 10
    }
   ],
   "source": [
    "l_cositas = [i ** 2 if i % 2 == 0 else i * 3 for i in l_cuenta ]\n",
    "l_cositas"
   ]
  },
  {
   "source": [
    "# Tuplas\n",
    "\n",
    "Las tuplas son como las listas pero son inmutables. Una vez asignado un valor no se pueden modificar"
   ],
   "cell_type": "markdown",
   "metadata": {}
  },
  {
   "cell_type": "code",
   "execution_count": 26,
   "metadata": {},
   "outputs": [
    {
     "output_type": "execute_result",
     "data": {
      "text/plain": [
       "(0, 3, 4, 9, 16, 15, 36, 21, 64, 27)"
      ]
     },
     "metadata": {},
     "execution_count": 26
    }
   ],
   "source": [
    "t_numeros = tuple(l_cositas)\n",
    "t_numeros"
   ]
  },
  {
   "cell_type": "code",
   "execution_count": 27,
   "metadata": {},
   "outputs": [
    {
     "output_type": "error",
     "ename": "TypeError",
     "evalue": "'tuple' object does not support item assignment",
     "traceback": [
      "\u001b[0;31m---------------------------------------------------------------------------\u001b[0m",
      "\u001b[0;31mTypeError\u001b[0m                                 Traceback (most recent call last)",
      "\u001b[0;32m<ipython-input-27-b225da66ec2b>\u001b[0m in \u001b[0;36m<module>\u001b[0;34m\u001b[0m\n\u001b[0;32m----> 1\u001b[0;31m \u001b[0mt_numeros\u001b[0m\u001b[0;34m[\u001b[0m\u001b[0;36m4\u001b[0m\u001b[0;34m]\u001b[0m \u001b[0;34m=\u001b[0m \u001b[0;36m7\u001b[0m\u001b[0;34m\u001b[0m\u001b[0;34m\u001b[0m\u001b[0m\n\u001b[0m",
      "\u001b[0;31mTypeError\u001b[0m: 'tuple' object does not support item assignment"
     ]
    }
   ],
   "source": [
    "t_numeros[4] = 7"
   ]
  },
  {
   "source": [
    "Cuando devolvemos más de un valor en una función, estamos devolviendo una tupla."
   ],
   "cell_type": "markdown",
   "metadata": {}
  },
  {
   "cell_type": "code",
   "execution_count": 30,
   "metadata": {},
   "outputs": [
    {
     "output_type": "execute_result",
     "data": {
      "text/plain": [
       "((4, 16), tuple)"
      ]
     },
     "metadata": {},
     "execution_count": 30
    }
   ],
   "source": [
    "def my_f(x):\n",
    "    return x, x**2\n",
    "\n",
    "my_f(4), type(my_f(4))"
   ]
  },
  {
   "source": [
    "# Diccionarios\n",
    "`{}` Representan información en formato `llave`: `valor`"
   ],
   "cell_type": "markdown",
   "metadata": {}
  },
  {
   "cell_type": "code",
   "execution_count": 12,
   "metadata": {},
   "outputs": [],
   "source": [
    "d_ciudades = {\n",
    "    'nombre': 'Valencia',\n",
    "    'poblacion': 700_000,\n",
    "    'latitud': 49,\n",
    "    'longitud': 40,\n",
    "    'alcaldes': [\n",
    "        {'nombre': 'Rita Barberà', 'mandato': '2000-2016'},\n",
    "        {'nombre': 'Joan Ribó', 'mandato': '2016-2024'}\n",
    "    ] \n",
    "}"
   ]
  },
  {
   "source": [
    "### Métodos útiles para manipular un diccionario\n",
    "- `setdefault(llave, default)`: Accede al campo `llave` del diccionario, si no existe lo inserta `default`."
   ],
   "cell_type": "markdown",
   "metadata": {}
  },
  {
   "cell_type": "code",
   "execution_count": 13,
   "metadata": {},
   "outputs": [
    {
     "output_type": "execute_result",
     "data": {
      "text/plain": [
       "40"
      ]
     },
     "metadata": {},
     "execution_count": 13
    }
   ],
   "source": [
    "d_ciudades.setdefault('s', 40)"
   ]
  },
  {
   "cell_type": "code",
   "execution_count": 14,
   "metadata": {},
   "outputs": [
    {
     "output_type": "execute_result",
     "data": {
      "text/plain": [
       "6"
      ]
     },
     "metadata": {},
     "execution_count": 14
    }
   ],
   "source": [
    "len(d_ciudades)"
   ]
  },
  {
   "source": [
    "### Métodos útiles para iterar sobre un diccionario\n",
    "- `.keys()`: Itera sobre las llaves\n",
    "- `.values()`: Itera sobre los valores\n",
    "- `.items()`: Itera sobre las llaves y los valores"
   ],
   "cell_type": "markdown",
   "metadata": {}
  },
  {
   "cell_type": "code",
   "execution_count": 15,
   "metadata": {},
   "outputs": [
    {
     "output_type": "stream",
     "name": "stdout",
     "text": [
      "nombre Valencia\npoblacion 700000\nlatitud 49\nlongitud 40\nalcaldes [{'nombre': 'Rita Barberà', 'mandato': '2000-2016'}, {'nombre': 'Joan Ribó', 'mandato': '2016-2024'}]\ns 40\n"
     ]
    }
   ],
   "source": [
    "for x in d_ciudades:\n",
    "    print(x, d_ciudades[x])"
   ]
  },
  {
   "cell_type": "code",
   "execution_count": 16,
   "metadata": {},
   "outputs": [
    {
     "output_type": "stream",
     "name": "stdout",
     "text": [
      "nombre Valencia\npoblacion 700000\nlatitud 49\nlongitud 40\nalcaldes [{'nombre': 'Rita Barberà', 'mandato': '2000-2016'}, {'nombre': 'Joan Ribó', 'mandato': '2016-2024'}]\ns 40\n"
     ]
    }
   ],
   "source": [
    "for k, v in d_ciudades.items():\n",
    "    print(k, v)"
   ]
  },
  {
   "cell_type": "code",
   "execution_count": 17,
   "metadata": {},
   "outputs": [
    {
     "output_type": "stream",
     "name": "stdout",
     "text": [
      "--- LLAVES ---\nnombre\npoblacion\nlatitud\nlongitud\nalcaldes\ns\n--- VALORES ---\nValencia\n700000\n49\n40\n[{'nombre': 'Rita Barberà', 'mandato': '2000-2016'}, {'nombre': 'Joan Ribó', 'mandato': '2016-2024'}]\n40\n--- ZIP! ---\nnombre Valencia\npoblacion 700000\nlatitud 49\nlongitud 40\nalcaldes [{'nombre': 'Rita Barberà', 'mandato': '2000-2016'}, {'nombre': 'Joan Ribó', 'mandato': '2016-2024'}]\ns 40\n"
     ]
    }
   ],
   "source": [
    "print('--- LLAVES ---')\n",
    "for k in d_ciudades.keys():\n",
    "    print(k)\n",
    "\n",
    "print('--- VALORES ---')\n",
    "for v in d_ciudades.values():\n",
    "    print(v)\n",
    "\n",
    "print('--- ZIP! ---')\n",
    "for k, v in zip(d_ciudades.keys(), d_ciudades.values()):\n",
    "    print(k, v)"
   ]
  },
  {
   "source": [
    "### Patrones con diccionarios\n",
    "- Bloque de ifs"
   ],
   "cell_type": "markdown",
   "metadata": {}
  },
  {
   "cell_type": "code",
   "execution_count": 18,
   "metadata": {},
   "outputs": [
    {
     "output_type": "stream",
     "name": "stdout",
     "text": [
      "{'alimentacion': [], 'limpieza': []}\n{'alimentacion': ['pimientos'], 'limpieza': []}\n"
     ]
    }
   ],
   "source": [
    "alimentacion = []\n",
    "limpieza = []\n",
    "\n",
    "colecciones = {\n",
    "    'alimentacion': alimentacion,\n",
    "    'limpieza': limpieza\n",
    "}\n",
    "\n",
    "tipo = \"alimentacion\"\n",
    "productos = \"pimientos\"\n",
    "\n",
    "print(colecciones)\n",
    "\n",
    "if tipo in colecciones.keys(): #  validacion de entradas\n",
    "    colecciones[tipo].append(productos)\n",
    "else:\n",
    "    print(f'{tipo} no está en las colecciones disponibles: {coleccion.keys()}')\n",
    "\n",
    "print(colecciones)"
   ]
  },
  {
   "source": [
    "# Sets\n",
    "Como una lista pero sin orden y los elementos son únicos."
   ],
   "cell_type": "markdown",
   "metadata": {}
  },
  {
   "cell_type": "code",
   "execution_count": 19,
   "metadata": {},
   "outputs": [],
   "source": [
    "s_colores = set(['rojo', 'verde', 'azul', 'amarillo'])\n",
    "s_otros = set(['rojo', 'cyan', 'naranja'])"
   ]
  },
  {
   "cell_type": "code",
   "execution_count": 20,
   "metadata": {},
   "outputs": [
    {
     "output_type": "execute_result",
     "data": {
      "text/plain": [
       "{'amarillo', 'azul', 'rojo', 'verde'}"
      ]
     },
     "metadata": {},
     "execution_count": 20
    }
   ],
   "source": [
    "s_colores"
   ]
  },
  {
   "cell_type": "code",
   "execution_count": 21,
   "metadata": {},
   "outputs": [
    {
     "output_type": "execute_result",
     "data": {
      "text/plain": [
       "{'amarillo', 'azul', 'rojo', 'verde'}"
      ]
     },
     "metadata": {},
     "execution_count": 21
    }
   ],
   "source": [
    "s_colores.add('amarillo')\n",
    "s_colores"
   ]
  },
  {
   "source": [
    "## Métodos útiles para manipular un set\n",
    "- `.intersection()` y `&`: Compara dos conjuntos y se queda con los que pertenecen a ambas listas\n",
    "- `.union()` y `|`: Une dos conjuntos sin repetición."
   ],
   "cell_type": "markdown",
   "metadata": {}
  },
  {
   "cell_type": "code",
   "execution_count": 22,
   "metadata": {},
   "outputs": [
    {
     "output_type": "execute_result",
     "data": {
      "text/plain": [
       "{'rojo'}"
      ]
     },
     "metadata": {},
     "execution_count": 22
    }
   ],
   "source": [
    "s_colores & s_otros"
   ]
  },
  {
   "cell_type": "code",
   "execution_count": 23,
   "metadata": {},
   "outputs": [
    {
     "output_type": "execute_result",
     "data": {
      "text/plain": [
       "{'rojo'}"
      ]
     },
     "metadata": {},
     "execution_count": 23
    }
   ],
   "source": [
    "s_colores.intersection(s_otros)"
   ]
  },
  {
   "cell_type": "code",
   "execution_count": 24,
   "metadata": {},
   "outputs": [
    {
     "output_type": "execute_result",
     "data": {
      "text/plain": [
       "{'amarillo', 'azul', 'cyan', 'naranja', 'rojo', 'verde'}"
      ]
     },
     "metadata": {},
     "execution_count": 24
    }
   ],
   "source": [
    "s_colores.union(s_otros)"
   ]
  },
  {
   "cell_type": "code",
   "execution_count": 25,
   "metadata": {},
   "outputs": [
    {
     "output_type": "execute_result",
     "data": {
      "text/plain": [
       "{'amarillo', 'azul', 'cyan', 'naranja', 'rojo', 'verde'}"
      ]
     },
     "metadata": {},
     "execution_count": 25
    }
   ],
   "source": [
    "s_colores | s_otros"
   ]
  },
  {
   "cell_type": "code",
   "execution_count": null,
   "metadata": {},
   "outputs": [],
   "source": []
  }
 ]
}