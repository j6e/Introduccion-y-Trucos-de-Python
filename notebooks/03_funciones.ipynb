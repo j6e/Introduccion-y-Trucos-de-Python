{
 "metadata": {
  "language_info": {
   "codemirror_mode": {
    "name": "ipython",
    "version": 3
   },
   "file_extension": ".py",
   "mimetype": "text/x-python",
   "name": "python",
   "nbconvert_exporter": "python",
   "pygments_lexer": "ipython3",
   "version": "3.7.8-final"
  },
  "orig_nbformat": 2,
  "kernelspec": {
   "name": "python3",
   "display_name": "Python 3",
   "language": "python"
  }
 },
 "nbformat": 4,
 "nbformat_minor": 2,
 "cells": [
  {
   "source": [
    "# Funciones\n"
   ],
   "cell_type": "markdown",
   "metadata": {}
  },
  {
   "source": [
    "## *args, **kwargs\n",
    "\n",
    "*args permite pasar cualquier cantidad de parámetros en formato lista a una función\n",
    "\n",
    "**kwargs permite pasar cualquier cantidad de parámetros en formato diccionario a una función. **kwargs es muy útil cuando una función llama a otra dependiendo de cosas internas."
   ],
   "cell_type": "markdown",
   "metadata": {}
  },
  {
   "cell_type": "code",
   "execution_count": 2,
   "metadata": {},
   "outputs": [],
   "source": [
    "def media_lista(*args):\n",
    "    res = 0\n",
    "    for x in args:\n",
    "        res += x\n",
    "    return res / len(args)"
   ]
  },
  {
   "cell_type": "code",
   "execution_count": 4,
   "metadata": {},
   "outputs": [
    {
     "output_type": "execute_result",
     "data": {
      "text/plain": [
       "4.5"
      ]
     },
     "metadata": {},
     "execution_count": 4
    }
   ],
   "source": [
    "media_lista(4,2,3,1,7,10)"
   ]
  },
  {
   "cell_type": "code",
   "execution_count": 38,
   "metadata": {},
   "outputs": [
    {
     "output_type": "execute_result",
     "data": {
      "text/plain": [
       "2.5"
      ]
     },
     "metadata": {},
     "execution_count": 38
    }
   ],
   "source": [
    "lista = [1,2,3,4]\n",
    "media_lista(*lista)"
   ]
  },
  {
   "cell_type": "code",
   "execution_count": 39,
   "metadata": {},
   "outputs": [
    {
     "output_type": "execute_result",
     "data": {
      "text/plain": [
       "4.5"
      ]
     },
     "metadata": {},
     "execution_count": 39
    }
   ],
   "source": [
    "otra_lista = [5,6,7,8]\n",
    "media_lista(*lista, *otra_lista)"
   ]
  },
  {
   "cell_type": "code",
   "execution_count": 5,
   "metadata": {},
   "outputs": [],
   "source": [
    "def f_a(x, y, opcion_a=0):\n",
    "    return x + y + opcion_a\n",
    "\n",
    "def f_b(x, y, c):\n",
    "    return c * y - x\n",
    "\n",
    "def hacer_cosas(x, y, **kwargs):\n",
    "    if (x + y) % 2 == 0:\n",
    "        return f_a(x, y, **kwargs)\n",
    "    else:\n",
    "        return f_b(x, y, **kwargs)"
   ]
  },
  {
   "cell_type": "code",
   "execution_count": 6,
   "metadata": {},
   "outputs": [
    {
     "output_type": "execute_result",
     "data": {
      "text/plain": [
       "5"
      ]
     },
     "metadata": {},
     "execution_count": 6
    }
   ],
   "source": [
    "hacer_cosas(1, 2, **{'c': 3})"
   ]
  },
  {
   "cell_type": "code",
   "execution_count": 7,
   "metadata": {},
   "outputs": [
    {
     "output_type": "execute_result",
     "data": {
      "text/plain": [
       "9"
      ]
     },
     "metadata": {},
     "execution_count": 7
    }
   ],
   "source": [
    "hacer_cosas(4, 2, **{'opcion_a': 3})"
   ]
  },
  {
   "cell_type": "code",
   "execution_count": 53,
   "metadata": {},
   "outputs": [
    {
     "output_type": "execute_result",
     "data": {
      "text/plain": [
       "9"
      ]
     },
     "metadata": {},
     "execution_count": 53
    }
   ],
   "source": [
    "def f_a(x, y, opcion_a=0):\n",
    "    return x + y + opcion_a\n",
    "\n",
    "def f_b(x, y, c):\n",
    "    return c * y - x\n",
    "\n",
    "def hacer_cosas(x, y, **kwargs):\n",
    "    if (x + y) % 2 == 0:\n",
    "        return f_a(x, y, opcion_a=kwargs['opcion_a'])\n",
    "    else:\n",
    "        return f_b(x, y, kwargs['c'])\n",
    "\n",
    "hacer_cosas(4, 2, **{'opcion_a': 3})"
   ]
  },
  {
   "cell_type": "code",
   "execution_count": 11,
   "metadata": {},
   "outputs": [
    {
     "output_type": "execute_result",
     "data": {
      "text/plain": [
       "(9, 0)"
      ]
     },
     "metadata": {},
     "execution_count": 11
    }
   ],
   "source": [
    "def f_a(x, y, opcion_a=0):\n",
    "    return x + y + opcion_a\n",
    "\n",
    "def f_b(x, y, c):\n",
    "    return c * y - x\n",
    "\n",
    "def hacer_cosas(x, y, **kwargs):\n",
    "    if 'c' in kwargs.keys():\n",
    "        return f_b(x, y, kwargs['c'])\n",
    "    else:\n",
    "        return f_a(x, y, **kwargs)\n",
    "\n",
    "hacer_cosas(4, 2, **{'opcion_a': 3}), hacer_cosas(4, 2, **{'c': 2})"
   ]
  },
  {
   "source": [
    "## Evaluaciones Parciales\n",
    "\n",
    "Existe la posibilidad de crear una función nueva con uno (o varios) de sus argumentos fijos."
   ],
   "cell_type": "markdown",
   "metadata": {}
  },
  {
   "cell_type": "code",
   "execution_count": null,
   "metadata": {},
   "outputs": [],
   "source": []
  },
  {
   "cell_type": "code",
   "execution_count": 12,
   "metadata": {},
   "outputs": [],
   "source": [
    "def sumar(x, y): \n",
    "    return x + y "
   ]
  },
  {
   "cell_type": "code",
   "execution_count": 13,
   "metadata": {},
   "outputs": [],
   "source": [
    "from functools import partial"
   ]
  },
  {
   "cell_type": "code",
   "execution_count": 14,
   "metadata": {},
   "outputs": [],
   "source": [
    "sumar2 = partial(sumar, 2)"
   ]
  },
  {
   "cell_type": "code",
   "execution_count": 15,
   "metadata": {},
   "outputs": [
    {
     "output_type": "execute_result",
     "data": {
      "text/plain": [
       "(6, 10)"
      ]
     },
     "metadata": {},
     "execution_count": 15
    }
   ],
   "source": [
    "sumar2(4), sumar2(8)"
   ]
  },
  {
   "source": [
    "## Clausuras\n",
    "\n",
    "Se pueden definir funciones dentro de funciones. Si la función más exterior devuelve la función interior, a la de fuera se la conoce como factoria."
   ],
   "cell_type": "markdown",
   "metadata": {}
  },
  {
   "cell_type": "code",
   "execution_count": 17,
   "metadata": {},
   "outputs": [],
   "source": [
    "def factoria_de_sumas(x):\n",
    "    \n",
    "    def sumar_(y):\n",
    "        return x + y\n",
    "    \n",
    "    return sumar_"
   ]
  },
  {
   "cell_type": "code",
   "execution_count": 19,
   "metadata": {},
   "outputs": [],
   "source": [
    "l_funciones_suma = [factoria_de_sumas(i) for i in range(10)]"
   ]
  },
  {
   "cell_type": "code",
   "execution_count": 21,
   "metadata": {},
   "outputs": [
    {
     "output_type": "execute_result",
     "data": {
      "text/plain": [
       "[100, 101, 102, 103, 104, 105, 106, 107, 108, 109]"
      ]
     },
     "metadata": {},
     "execution_count": 21
    }
   ],
   "source": [
    "[f(100) for f in l_funciones_suma]"
   ]
  },
  {
   "cell_type": "code",
   "execution_count": 9,
   "metadata": {},
   "outputs": [
    {
     "output_type": "execute_result",
     "data": {
      "text/plain": [
       "23"
      ]
     },
     "metadata": {},
     "execution_count": 9
    }
   ],
   "source": [
    "sumar3 = factoria_de_sumas(3)\n",
    "sumar3(20)"
   ]
  },
  {
   "source": [
    "## Funciones anónimas (Lambdas)\n",
    "\n",
    "Son funciones que se definen en una linea, muy útiles para hacer pequeñas operaciones repetitivas. "
   ],
   "cell_type": "markdown",
   "metadata": {}
  },
  {
   "cell_type": "code",
   "execution_count": 22,
   "metadata": {},
   "outputs": [
    {
     "output_type": "execute_result",
     "data": {
      "text/plain": [
       "8"
      ]
     },
     "metadata": {},
     "execution_count": 22
    }
   ],
   "source": [
    "suma5 = lambda x: x + 5\n",
    "suma5(3)"
   ]
  },
  {
   "cell_type": "code",
   "execution_count": 24,
   "metadata": {},
   "outputs": [
    {
     "output_type": "execute_result",
     "data": {
      "text/plain": [
       "['ssdsd', '', '', '23']"
      ]
     },
     "metadata": {},
     "execution_count": 24
    }
   ],
   "source": [
    "limpiar_str = lambda x: x.lstrip().rstrip().replace('\\n', ' ').split(' ')\n",
    "limpiar_str(\"            ssdsd \\n 23   \")"
   ]
  },
  {
   "cell_type": "code",
   "execution_count": null,
   "metadata": {},
   "outputs": [],
   "source": [
    "def limpiar_str(x):\n",
    "    return x.lstrip().rstrip().replace('\\n', ' ').split(' ')"
   ]
  },
  {
   "source": [
    "## Decoradores\n",
    "\n",
    "Los decoradores se ponen encima de las funciones y sirven para indicar algún tipo de comportamiento especial"
   ],
   "cell_type": "markdown",
   "metadata": {}
  },
  {
   "cell_type": "code",
   "execution_count": 25,
   "metadata": {},
   "outputs": [
    {
     "output_type": "stream",
     "name": "stdout",
     "text": [
      "Antes de la función.\nDentro de la función\nDespués de la función.\n"
     ]
    },
    {
     "output_type": "execute_result",
     "data": {
      "text/plain": [
       "'Holita ballester'"
      ]
     },
     "metadata": {},
     "execution_count": 25
    }
   ],
   "source": [
    "def mi_decorador(func):\n",
    "    def wrapper(*args, **kwargs):\n",
    "        print(\"Antes de la función.\")\n",
    "        res = func(*args, **kwargs)\n",
    "        print(\"Después de la función.\")\n",
    "        return res\n",
    "    return wrapper\n",
    "\n",
    "@mi_decorador\n",
    "def holita(nombre):\n",
    "    print(\"Dentro de la función\")\n",
    "    return f\"Holita {nombre}\"\n",
    "\n",
    "holita('ballester')"
   ]
  },
  {
   "cell_type": "code",
   "execution_count": null,
   "metadata": {},
   "outputs": [],
   "source": [
    "mi_decorador(holita)"
   ]
  },
  {
   "cell_type": "code",
   "execution_count": 26,
   "metadata": {},
   "outputs": [],
   "source": [
    "def fibonacci(x):\n",
    "    if x == 0:\n",
    "        return 0\n",
    "    elif x == 1:\n",
    "        return 1\n",
    "    else:\n",
    "        return fibonacci(x-1) + fibonacci(x-2)"
   ]
  },
  {
   "cell_type": "code",
   "execution_count": 27,
   "metadata": {},
   "outputs": [
    {
     "output_type": "stream",
     "name": "stdout",
     "text": [
      "CPU times: user 4.39 s, sys: 0 ns, total: 4.39 s\nWall time: 4.44 s\n"
     ]
    },
    {
     "output_type": "execute_result",
     "data": {
      "text/plain": [
       "9227465"
      ]
     },
     "metadata": {},
     "execution_count": 27
    }
   ],
   "source": [
    "%time fibonacci(35)"
   ]
  },
  {
   "cell_type": "code",
   "execution_count": 28,
   "metadata": {},
   "outputs": [
    {
     "output_type": "stream",
     "name": "stdout",
     "text": [
      "CPU times: user 1min 4s, sys: 77.2 ms, total: 1min 4s\nWall time: 1min 4s\n"
     ]
    },
    {
     "output_type": "execute_result",
     "data": {
      "text/plain": [
       "102334155"
      ]
     },
     "metadata": {},
     "execution_count": 28
    }
   ],
   "source": [
    "%time fibonacci(40)"
   ]
  },
  {
   "cell_type": "code",
   "execution_count": 29,
   "metadata": {},
   "outputs": [],
   "source": [
    "from functools import lru_cache\n",
    "\n",
    "@lru_cache(maxsize=None)\n",
    "def fibonacci_mem(x):\n",
    "    if x == 0:\n",
    "        return 0\n",
    "    elif x == 1:\n",
    "        return 1\n",
    "    else:\n",
    "        return fibonacci_mem(x-1) + fibonacci_mem(x-2)\n",
    "\n",
    "## ENTRADA SALIDA\n",
    "## 0       0\n",
    "## 1       1\n",
    "## 2       1"
   ]
  },
  {
   "cell_type": "code",
   "execution_count": 30,
   "metadata": {},
   "outputs": [
    {
     "output_type": "stream",
     "name": "stdout",
     "text": [
      "CPU times: user 74 µs, sys: 0 ns, total: 74 µs\nWall time: 82.3 µs\n"
     ]
    },
    {
     "output_type": "execute_result",
     "data": {
      "text/plain": [
       "102334155"
      ]
     },
     "metadata": {},
     "execution_count": 30
    }
   ],
   "source": [
    "%time fibonacci_mem(40)"
   ]
  },
  {
   "cell_type": "code",
   "execution_count": null,
   "metadata": {},
   "outputs": [],
   "source": []
  }
 ]
}