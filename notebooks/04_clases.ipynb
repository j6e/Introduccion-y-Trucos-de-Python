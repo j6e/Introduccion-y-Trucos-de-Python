{
 "metadata": {
  "language_info": {
   "codemirror_mode": {
    "name": "ipython",
    "version": 3
   },
   "file_extension": ".py",
   "mimetype": "text/x-python",
   "name": "python",
   "nbconvert_exporter": "python",
   "pygments_lexer": "ipython3",
   "version": "3.7.8-final"
  },
  "orig_nbformat": 2,
  "kernelspec": {
   "name": "python3",
   "display_name": "Python 3",
   "language": "python"
  }
 },
 "nbformat": 4,
 "nbformat_minor": 2,
 "cells": [
  {
   "source": [
    "# Clases\n"
   ],
   "cell_type": "markdown",
   "metadata": {}
  },
  {
   "source": [
    "## Definición"
   ],
   "cell_type": "markdown",
   "metadata": {}
  },
  {
   "source": [
    "## Métodos\n",
    "- `__str__`: Genera una representación str del objeto, útil para printar. \n",
    "- `__call__`: Una vez se ha construido el objeto (`mi_objeto = Objeto()`), este método se llama cuando se ejecuta `mi_objeto()`\n",
    "- `__getitem__ y __setitem__`: Que ocurre cuando se hace `mi_objeto[0]` o `mi_objeto['llave']`\n",
    "- `__len__`: Se invoca cuando se hace `len(mi_objeto)` \n",
    "- `__eq__`: Se invoca cuando se hace mi_objeto == mi_otro_objeto\n",
    "- `@classmethod`:\n",
    "- `@instancemethod`:\n",
    "- `@property`: Permite crear una propiedad aunque sea "
   ],
   "cell_type": "markdown",
   "metadata": {}
  },
  {
   "cell_type": "code",
   "execution_count": 69,
   "metadata": {},
   "outputs": [],
   "source": [
    "class Edificio(object):\n",
    "    def __init__(self, pisos: int):\n",
    "        self._pisos = [None] * pisos\n",
    "    def __setitem__(self, planta, nombre):\n",
    "        self._pisos[planta] = nombre\n",
    "    def __getitem__(self, planta):\n",
    "        return self._pisos[planta]\n",
    "    def __len__(self):\n",
    "        return len(self._pisos)\n",
    "    def __str__(self):\n",
    "        plantas = \", \".join(f\"Planta {i} = {self[i]}\" for i in range(len(self)))\n",
    "        return f\"Edificio <altura = {len(self)}; plantas = {plantas}>\""
   ]
  },
  {
   "cell_type": "code",
   "execution_count": 70,
   "metadata": {},
   "outputs": [
    {
     "output_type": "stream",
     "name": "stdout",
     "text": [
      "Moda Masculina\n"
     ]
    }
   ],
   "source": [
    "mi_edi = Edificio(2) # Construct a building with 4 floors\n",
    "mi_edi[0] = 'Perfumería'\n",
    "mi_edi[1] = 'Moda Masculina'\n",
    "print( mi_edi[1] )"
   ]
  },
  {
   "cell_type": "code",
   "execution_count": 71,
   "metadata": {},
   "outputs": [
    {
     "output_type": "stream",
     "name": "stdout",
     "text": [
      "Edificio <altura = 2; plantas = Planta 0 = Perfumería, Planta 1 = Moda Masculina>\n"
     ]
    }
   ],
   "source": [
    "print(mi_edi)"
   ]
  },
  {
   "source": [
    "### Crear cualquier objeto desde consola"
   ],
   "cell_type": "markdown",
   "metadata": {}
  },
  {
   "cell_type": "code",
   "execution_count": 75,
   "metadata": {},
   "outputs": [
    {
     "output_type": "stream",
     "name": "stdout",
     "text": [
      "Edificio <altura = 5; plantas = Planta 0 = None, Planta 1 = None, Planta 2 = None, Planta 3 = None, Planta 4 = None>\n"
     ]
    }
   ],
   "source": [
    "import inspect\n",
    "\n",
    "def crea_desde_consola(objeto):\n",
    "    \"\"\"Crea un objeto mediante input\"\"\"\n",
    "    argumentos = inspect.signature(objeto.__init__)\n",
    "    args = {}\n",
    "    for arg in argumentos.parameters:\n",
    "        if arg == 'self':\n",
    "            continue\n",
    "        valor = input(f\"{arg}: \")\n",
    "        tipo = argumentos.parameters[arg].annotation\n",
    "        if tipo != inspect.Parameter.empty:\n",
    "            valor = tipo(valor)\n",
    "        args[arg] = valor\n",
    "    return objeto(**args)\n",
    "\n",
    "mi_objeto = crea_desde_consola(Edificio)\n",
    "print(mi_objeto)"
   ]
  },
  {
   "source": [
    "## Herencia"
   ],
   "cell_type": "markdown",
   "metadata": {}
  },
  {
   "source": [
    "## Composición"
   ],
   "cell_type": "markdown",
   "metadata": {}
  },
  {
   "source": [
    "## Dataclass"
   ],
   "cell_type": "markdown",
   "metadata": {}
  },
  {
   "cell_type": "code",
   "execution_count": null,
   "metadata": {},
   "outputs": [],
   "source": [
    "## "
   ]
  }
 ]
}